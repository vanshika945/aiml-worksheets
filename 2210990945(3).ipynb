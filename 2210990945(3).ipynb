{
 "cells": [
  {
   "cell_type": "code",
   "execution_count": 1,
   "id": "d9d330b8-58be-4c3a-ae16-5e55930345ab",
   "metadata": {
    "scrolled": true
   },
   "outputs": [
    {
     "name": "stdout",
     "output_type": "stream",
     "text": [
      "   Courses    Fee Duration Discount\n",
      "0    SPARK  22000   30days     1000\n",
      "1  PYSPARK  25000   50days     2300\n",
      "2   HADOOP  24000   40days     2500\n",
      "3   PANDAS  26000   60days     1400\n",
      "***************************************************\n",
      "   Courses    Fee Duration Discount\n",
      "0    spark  22000   30days     1000\n",
      "1  pyspark  25000   50days     2300\n",
      "2   hadoop  24000   40days     2500\n",
      "3   pandas  26000   60days     1400\n"
     ]
    }
   ],
   "source": [
    "import pandas as pd\n",
    "import numpy as np\n",
    "\n",
    "technologies = {\n",
    "    'Courses':[\"SPARK\", \"PYSPARK\", \"HADOOP\", \"PANDAS\"],\n",
    "    'Fee': ['22000', '25000', '24000', '26000'],\n",
    "    'Duration': ['30days', '50days', '40days', '60days'],\n",
    "    'Discount': ['1000', '2300', '2500', '1400']\n",
    "}\n",
    "\n",
    "df = pd.DataFrame(technologies)\n",
    "print(df)\n",
    "print(\"***************************************************\")\n",
    "df['Courses'] = df['Courses'].apply(lambda x: x.lower())\n",
    "print(df)\n"
   ]
  },
  {
   "cell_type": "code",
   "execution_count": 2,
   "id": "e4073d0d-ae58-4990-862b-603f837794ca",
   "metadata": {},
   "outputs": [
    {
     "name": "stdout",
     "output_type": "stream",
     "text": [
      "   Courses    Fee Duration Discount\n",
      "0    spark  22000   30days     1000\n",
      "1  pyspark  25000   50days     2300\n",
      "2   hadoop  24000   40days     2500\n",
      "3   pandas  26000   60days     1400\n",
      "***************************************************\n",
      "   Courses    Fee Duration Discount\n",
      "0    SPARK  22000   30days     1000\n",
      "1  PYSPARK  25000   50days     2300\n",
      "2   HADOOP  24000   40days     2500\n",
      "3   PANDAS  26000   60days     1400\n"
     ]
    }
   ],
   "source": [
    "technologies= ({\n",
    "    'Courses':[\"spark\",\"pyspark\",\"hadoop\",\"pandas\"],\n",
    "    'Fee' :['22000','25000','24000','26000'],\n",
    "    'Duration':['30days','50days','40days','60days'],\n",
    "    'Discount':['1000','2300','2500','1400']\n",
    "              })\n",
    "df = pd.DataFrame(technologies)\n",
    "print(df)\n",
    "print(\"***************************************************\")\n",
    "df['Courses'] = df['Courses'].apply(lambda x: x.upper())\n",
    "print(df)\n",
    "\n"
   ]
  },
  {
   "cell_type": "code",
   "execution_count": 13,
   "id": "ea255739-8a1c-4ecf-b7cd-bece9cf41633",
   "metadata": {},
   "outputs": [
    {
     "name": "stdout",
     "output_type": "stream",
     "text": [
      "   age      name\n",
      "0   15    Sample\n",
      "1   17  New User\n",
      "2   20   My Name\n",
      "3   14  Jane Doe\n",
      "4   25  John Doe\n",
      "***************************************************\n",
      "0    6\n",
      "1    8\n",
      "2    7\n",
      "3    8\n",
      "4    8\n",
      "Name: name, dtype: int64\n"
     ]
    }
   ],
   "source": [
    "data = pd.DataFrame({\n",
    "\n",
    "    'age' : [15, 17, 20, 14, 25],\n",
    "\n",
    "    'name': [\"Sample\", \"New User\", \"My Name\", \"Jane Doe\", \"John Doe\"]\n",
    "\n",
    "})\n",
    "\n",
    "print(data)\n",
    "print(\"***************************************************\")\n",
    "\n",
    "print(data['name'].apply(lambda x: len(x)))\n",
    "\n"
   ]
  },
  {
   "cell_type": "code",
   "execution_count": 12,
   "id": "a66454fd-9318-4212-b97e-0de693c97aed",
   "metadata": {},
   "outputs": [
    {
     "name": "stdout",
     "output_type": "stream",
     "text": [
      "0    1. Tiger.  \n",
      "1      2. Cat!\\n\n",
      "2      3. Pig?\\t\n",
      "3            NaN\n",
      "dtype: object\n",
      "***************************************************\n",
      "0    1. Tiger.\n",
      "1      2. Cat!\n",
      "2      3. Pig?\n",
      "3          NaN\n",
      "dtype: object\n"
     ]
    }
   ],
   "source": [
    "import numpy as np\n",
    "import pandas as pd\n",
    "s = pd.Series(['1. Tiger.  ', '2. Cat!\\n', '3. Pig?\\t', np.nan])\n",
    "print(s)\n",
    "print(\"***************************************************\")\n",
    "\n",
    "print(s.apply(lambda x: str.strip(x)if isinstance(x, str) else x))"
   ]
  },
  {
   "cell_type": "code",
   "execution_count": 11,
   "id": "9b94a167-5179-4f5b-af71-84f1b9e1f335",
   "metadata": {
    "scrolled": true
   },
   "outputs": [
    {
     "name": "stdout",
     "output_type": "stream",
     "text": [
      "0                             this is my new page\n",
      "1    https://www.w3resource.com/pandas/index.phps\n",
      "2                                             NaN\n",
      "dtype: object\n",
      "***************************************************\n",
      "0                         [this, is, my, new, page]\n",
      "1    [https://www.w3resource.com/pandas/index.phps]\n",
      "2                                               NaN\n",
      "dtype: object\n"
     ]
    }
   ],
   "source": [
    "import numpy as np\n",
    "import pandas as pd\n",
    "s = pd.Series([\"this is my new page\",\n",
    "               \"https://www.w3resource.com/pandas/index.phps\",\n",
    "               np.nan])\n",
    "print(s)\n",
    "print(\"***************************************************\")\n",
    "\n",
    "print(s.apply(lambda x: str.split(x)if isinstance(x, str) else x))"
   ]
  },
  {
   "cell_type": "code",
   "execution_count": 1,
   "id": "57aaf0b9-deb1-4d32-b3d7-77b9ded07536",
   "metadata": {},
   "outputs": [
    {
     "name": "stdout",
     "output_type": "stream",
     "text": [
      "0       hi my name is vanshika\n",
      "1    hello there i am vanshika\n",
      "2                           hi\n",
      "3                          NaN\n",
      "dtype: object\n",
      "***************************************************\n",
      "0     True\n",
      "1     True\n",
      "2    False\n",
      "3    False\n",
      "dtype: bool\n"
     ]
    }
   ],
   "source": [
    "import numpy as np\n",
    "import pandas as pd\n",
    "a = pd.Series([\"hi my name is vanshika\",\n",
    "               \"hello there i am vanshika\",\n",
    "               \"hi\",\n",
    "               np.nan])\n",
    "print(a)\n",
    "print(\"***************************************************\")\n",
    "\n",
    "print(a.apply(lambda x: 'vanshika' in str(x)))"
   ]
  },
  {
   "cell_type": "code",
   "execution_count": 3,
   "id": "e184392b-20e5-4630-a877-45d45e6ce7df",
   "metadata": {},
   "outputs": [
    {
     "name": "stdout",
     "output_type": "stream",
     "text": [
      "0       hi my name is Vanshika\n",
      "1    hello there i am vanshika\n",
      "2                           hi\n",
      "dtype: object\n",
      "***************************************************\n",
      "0       hi my name is Vanshika\n",
      "1    hello there i am vanshika\n",
      "2                           hi\n",
      "dtype: object\n"
     ]
    }
   ],
   "source": [
    "b = pd.Series([\"hi my name is Vanshika\",\n",
    "               \"hello there i am vanshika\",\n",
    "               \"hi\",\n",
    "               ])\n",
    "print(b)\n",
    "print(\"***************************************************\")\n",
    "\n",
    "print(b.apply(lambda x: x.replace('Vanshika','Vanshika')))"
   ]
  },
  {
   "cell_type": "code",
   "execution_count": 8,
   "id": "87443afe-d198-40c6-ae98-7b7b3d05ca7d",
   "metadata": {},
   "outputs": [
    {
     "name": "stdout",
     "output_type": "stream",
     "text": [
      "0    brahmjot\n",
      "1     udabir \n",
      "2      yuvraj\n",
      "dtype: object\n",
      "***************************************************\n",
      "0    False\n",
      "1    False\n",
      "2    False\n",
      "dtype: bool\n"
     ]
    }
   ],
   "source": [
    "c = pd.Series([\"brahmjot\",\n",
    "               \"udabir \",\n",
    "               \"yuvraj\",\n",
    "               ])\n",
    "print(c)\n",
    "print(\"***************************************************\")\n",
    "\n",
    "print(c.apply(lambda x: x.startswith('ans')))"
   ]
  },
  {
   "cell_type": "code",
   "execution_count": 6,
   "id": "27e08541-1c4f-4d8a-95ba-42e4d1fb7f2a",
   "metadata": {},
   "outputs": [
    {
     "name": "stdout",
     "output_type": "stream",
     "text": [
      "0    brahmjot\n",
      "1     udabir \n",
      "2      yuvraj\n",
      "dtype: object\n",
      "***************************************************\n",
      "0    False\n",
      "1    False\n",
      "2    False\n",
      "dtype: bool\n"
     ]
    }
   ],
   "source": [
    "d = pd.Series([\"brahmjot\",\n",
    "               \"udabir \",\n",
    "               \"yuvraj\",\n",
    "               ])\n",
    "print(d)\n",
    "print(\"***************************************************\")\n",
    "\n",
    "print(d.apply(lambda x: x.endswith('a')))"
   ]
  },
  {
   "cell_type": "code",
   "execution_count": 5,
   "id": "a239cadb-cf5d-48b9-aebb-3c5db55a4642",
   "metadata": {},
   "outputs": [
    {
     "name": "stdout",
     "output_type": "stream",
     "text": [
      "0      chitkara\n",
      "1    chandigarh\n",
      "2        thapar\n",
      "dtype: object\n",
      "***************************************************\n",
      "0      chitkara university\n",
      "1    chandigarh university\n",
      "2        thapar university\n",
      "dtype: object\n"
     ]
    }
   ],
   "source": [
    "import numpy as np\n",
    "import pandas as pd\n",
    "z = pd.Series([\"chitkara\",\n",
    "               \"chandigarh\",\n",
    "               \"thapar\",\n",
    "               ])\n",
    "print(z)\n",
    "print(\"***************************************************\")\n",
    "\n",
    "print(z.apply(lambda x: x + (' university')))"
   ]
  },
  {
   "cell_type": "code",
   "execution_count": 4,
   "id": "d712568b-e86e-46a9-9791-08dfb3d4c2f7",
   "metadata": {},
   "outputs": [
    {
     "name": "stdout",
     "output_type": "stream",
     "text": [
      "apple      1\n",
      "samsung    2\n",
      "mi         3\n",
      "oneplus    4\n",
      "vivo       5\n",
      "dtype: int64\n",
      "***************************************************\n",
      "2\n"
     ]
    }
   ],
   "source": [
    "import numpy as np\n",
    "import pandas as pd\n",
    "y = pd.Series([1,2,3,4,5],index=['apple','samsung','mi','oneplus','vivo'])\n",
    "print(y)\n",
    "print(\"***************************************************\")\n",
    "\n",
    "print( y.get('samsung'))"
   ]
  },
  {
   "cell_type": "code",
   "execution_count": 3,
   "id": "1c1f679b-5730-4631-8210-db6bf8f0c914",
   "metadata": {},
   "outputs": [
    {
     "name": "stdout",
     "output_type": "stream",
     "text": [
      "0    amity\n",
      "1       pu\n",
      "2      pec\n",
      "dtype: object\n",
      "***************************************************\n",
      "0    mt\n",
      "1     u\n",
      "2     e\n",
      "dtype: object\n"
     ]
    }
   ],
   "source": [
    "import numpy as np\n",
    "import pandas as pd\n",
    "k = pd.Series([\"amity\",\n",
    "               \"pu\",\n",
    "               \"pec\",\n",
    "               ])\n",
    "print(k)\n",
    "print(\"***************************************************\")\n",
    "\n",
    "print(k.apply(lambda x: x[1:6:2]))"
   ]
  },
  {
   "cell_type": "code",
   "execution_count": 2,
   "id": "3ff6db77-c38e-472d-bcf9-75c7dc19d5fd",
   "metadata": {},
   "outputs": [
    {
     "name": "stdout",
     "output_type": "stream",
     "text": [
      "0    amity\n",
      "1       pu\n",
      "2      pec\n",
      "dtype: object\n",
      "***************************************************\n",
      "0   -1\n",
      "1   -1\n",
      "2   -1\n",
      "dtype: int64\n"
     ]
    }
   ],
   "source": [
    "import numpy as np\n",
    "import pandas as pd\n",
    "k = pd.Series([\"amity\",\n",
    "               \"pu\",\n",
    "               \"pec\",\n",
    "               ])\n",
    "print(k)\n",
    "print(\"***************************************************\")\n",
    "\n",
    "print(k.apply(lambda x: x.find('ch')))"
   ]
  },
  {
   "cell_type": "code",
   "execution_count": null,
   "id": "7128cbae-01d4-4fb9-9d43-c6923cde7325",
   "metadata": {},
   "outputs": [],
   "source": []
  }
 ],
 "metadata": {
  "kernelspec": {
   "display_name": "Python 3 (ipykernel)",
   "language": "python",
   "name": "python3"
  },
  "language_info": {
   "codemirror_mode": {
    "name": "ipython",
    "version": 3
   },
   "file_extension": ".py",
   "mimetype": "text/x-python",
   "name": "python",
   "nbconvert_exporter": "python",
   "pygments_lexer": "ipython3",
   "version": "3.12.1"
  }
 },
 "nbformat": 4,
 "nbformat_minor": 5
}
